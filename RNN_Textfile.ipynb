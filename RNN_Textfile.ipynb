{
 "cells": [
  {
   "cell_type": "markdown",
   "metadata": {},
   "source": [
    "# Recurrent Neural Network"
   ]
  },
  {
   "cell_type": "markdown",
   "metadata": {},
   "source": [
    "Split Text into Lines"
   ]
  },
  {
   "cell_type": "code",
   "execution_count": 4,
   "metadata": {},
   "outputs": [],
   "source": [
    "with open('data.txt', 'r') as file:\n",
    "    text = file.read()\n",
    "    lines = text.lower().split('\\n')"
   ]
  },
  {
   "cell_type": "markdown",
   "metadata": {},
   "source": [
    "Split Text into Words"
   ]
  },
  {
   "cell_type": "code",
   "execution_count": 5,
   "metadata": {},
   "outputs": [],
   "source": [
    "from keras.preprocessing.text import text_to_word_sequence, Tokenizer"
   ]
  },
  {
   "cell_type": "code",
   "execution_count": 6,
   "metadata": {},
   "outputs": [],
   "source": [
    "words = text_to_word_sequence(text)"
   ]
  },
  {
   "cell_type": "markdown",
   "metadata": {},
   "source": [
    "Tokenize Input Text"
   ]
  },
  {
   "cell_type": "code",
   "execution_count": 7,
   "metadata": {},
   "outputs": [],
   "source": [
    "tokenizer = Tokenizer()"
   ]
  },
  {
   "cell_type": "code",
   "execution_count": 8,
   "metadata": {},
   "outputs": [],
   "source": [
    "tokenizer.fit_on_texts(words)"
   ]
  },
  {
   "cell_type": "markdown",
   "metadata": {},
   "source": [
    "Get the Vocabulary Size"
   ]
  },
  {
   "cell_type": "code",
   "execution_count": 9,
   "metadata": {},
   "outputs": [
    {
     "data": {
      "text/plain": [
       "584"
      ]
     },
     "execution_count": 9,
     "metadata": {},
     "output_type": "execute_result"
    }
   ],
   "source": [
    "vocabulary_size = len(tokenizer.word_index)+1\n",
    "vocabulary_size"
   ]
  },
  {
   "cell_type": "markdown",
   "metadata": {},
   "source": [
    "Build Sequences"
   ]
  },
  {
   "cell_type": "code",
   "execution_count": 10,
   "metadata": {},
   "outputs": [
    {
     "data": {
      "text/plain": [
       "[[190, 191, 192, 193, 98, 99, 1],\n",
       " [1],\n",
       " [7, 100, 27, 194, 101, 102, 44, 1],\n",
       " [1],\n",
       " [19, 34, 3, 195, 58, 35, 36, 196, 1],\n",
       " [1],\n",
       " [16, 103, 104, 101, 105, 16, 197, 1],\n",
       " [1],\n",
       " [19, 2, 198, 6, 15, 67, 199, 59, 1],\n",
       " [1],\n",
       " [200, 4, 201, 202, 13, 11, 203, 204, 1],\n",
       " [1],\n",
       " [205, 28, 206, 37, 207, 106, 1],\n",
       " [1],\n",
       " [4, 11, 4, 208, 1, 6, 4, 45, 11, 107, 209, 1],\n",
       " [1],\n",
       " [2, 7, 24, 46, 3, 108, 68, 210, 1],\n",
       " [1],\n",
       " [5, 211, 212, 6, 3, 213, 214, 1],\n",
       " [1],\n",
       " [109, 15, 67, 215, 216, 4, 217, 1],\n",
       " [1],\n",
       " [5, 1, 103, 218, 1, 219, 110, 8, 220, 221, 3, 25, 1, 38, 111, 47, 222, 12, 1],\n",
       " [1],\n",
       " [1, 1, 1, 6, 223, 3, 108, 224, 1, 35, 3, 225, 5, 10, 1],\n",
       " [1],\n",
       " [17, 226, 227, 69, 228, 4, 229, 1],\n",
       " [1],\n",
       " [5, 230, 112, 231, 8, 4, 27, 232, 1],\n",
       " [1],\n",
       " [4, 233, 234, 235, 20, 236, 39, 46, 1],\n",
       " [1],\n",
       " [48, 12, 28, 237, 238, 9, 239, 240, 241, 1],\n",
       " [1],\n",
       " [29, 70, 242, 1, 37, 30, 4, 21, 106, 1],\n",
       " [1],\n",
       " [37, 30, 3, 71, 9, 4, 113, 243, 1],\n",
       " [1],\n",
       " [6, 244, 1, 109, 15, 67, 112, 245, 59, 1],\n",
       " [1],\n",
       " [40, 72, 30, 246, 73, 1, 5, 247, 114, 1],\n",
       " [1],\n",
       " [74, 115, 75, 114, 248, 4, 27, 76, 1],\n",
       " [1],\n",
       " [22, 2, 249, 250, 251, 77, 116, 9, 252],\n",
       " [1],\n",
       " [69, 117, 78, 118, 1, 5, 31, 78, 119, 253, 254],\n",
       " [1],\n",
       " [255, 16, 21, 35, 256, 15, 1],\n",
       " [1],\n",
       " [1, 1, 47, 40, 6, 12, 120, 121, 17, 2, 24, 119, 1],\n",
       " [1],\n",
       " [1, 1, 5, 49, 4, 122, 257, 17, 2, 258, 26, 123, 1],\n",
       " [1],\n",
       " [1],\n",
       " [1],\n",
       " [60, 8, 4, 79, 5, 259, 3, 124, 2, 260, 1],\n",
       " [1],\n",
       " [46, 32, 3, 36, 7, 124, 58, 125, 50, 1],\n",
       " [1],\n",
       " [80, 68, 126, 22, 46, 2, 18, 261, 1],\n",
       " [1],\n",
       " [2, 51, 262, 3, 25, 1, 263, 81, 127, 1],\n",
       " [1],\n",
       " [14, 37, 32, 41, 20, 77, 80, 264, 265],\n",
       " [1],\n",
       " [266, 3, 267, 9, 4, 268, 1],\n",
       " [1],\n",
       " [38, 61, 32, 82, 20, 269, 48, 12, 3, 270],\n",
       " [1],\n",
       " [9, 16, 11, 52, 6, 271, 128, 1],\n",
       " [1],\n",
       " [2, 24, 4, 272, 79, 5, 41, 8, 10],\n",
       " [1],\n",
       " [129, 273, 3, 130, 274, 9, 83, 131, 1],\n",
       " [1],\n",
       " [20, 2, 275, 276, 9, 15, 62, 84, 49, 1],\n",
       " [1],\n",
       " [277, 9, 278, 47, 4, 132, 36, 1],\n",
       " [1],\n",
       " [1, 1, 19, 22, 2, 85, 279, 18, 6, 12, 1],\n",
       " [1],\n",
       " [1, 1, 44, 86, 5, 15, 280, 281, 13, 10],\n",
       " [1],\n",
       " [1],\n",
       " [1],\n",
       " [282, 283, 53, 51, 2, 133, 1],\n",
       " [1],\n",
       " [284, 4, 11, 4, 27, 285, 1],\n",
       " [1],\n",
       " [286, 287, 288, 134, 19, 54, 289, 1],\n",
       " [1],\n",
       " [5, 70, 290, 41, 291, 6, 63, 135, 292, 1],\n",
       " [1],\n",
       " [29, 136, 293, 53, 51, 2, 294, 1],\n",
       " [1],\n",
       " [3, 137, 295, 296, 10, 6, 297, 1],\n",
       " [1],\n",
       " [298, 299, 53, 51, 2, 76],\n",
       " [1],\n",
       " [20, 300, 28, 117, 9, 301, 138, 139, 18, 85, 1],\n",
       " [1],\n",
       " [14, 140, 302, 13, 4, 11, 303, 1],\n",
       " [1],\n",
       " [2, 9, 4, 11, 4, 45, 11, 51, 304, 1],\n",
       " [1],\n",
       " [29, 74, 17, 141, 129, 10, 6, 12, 142, 1],\n",
       " [1],\n",
       " [64, 305, 306, 139, 2, 307, 1],\n",
       " [1],\n",
       " [1, 1, 4, 143, 21, 144, 12, 308, 13, 10, 1],\n",
       " [1],\n",
       " [1, 1, 23, 309, 87, 310, 311, 6, 12, 1],\n",
       " [1],\n",
       " [1],\n",
       " [1],\n",
       " [63, 312, 7, 13, 145, 313, 146, 314],\n",
       " [1],\n",
       " [3, 130, 315, 37, 88, 89, 54, 316],\n",
       " [1],\n",
       " [48, 317, 3, 318, 6, 3, 319, 320, 1],\n",
       " [1],\n",
       " [5, 7, 321, 23, 322, 54, 323, 1],\n",
       " [1],\n",
       " [14, 102, 324, 36, 325, 147, 39],\n",
       " [1],\n",
       " [6, 148, 149, 5, 150, 151, 326, 1],\n",
       " [1],\n",
       " [327, 328, 13, 329, 5, 113, 152, 330, 142, 1],\n",
       " [1],\n",
       " [21, 153, 331, 5, 332, 88, 37, 1],\n",
       " [1],\n",
       " [29, 40, 18, 154, 333, 155],\n",
       " [1],\n",
       " [28, 334, 335, 336, 8, 337, 9, 79, 1],\n",
       " [1],\n",
       " [27, 338, 13, 21, 40, 339, 1],\n",
       " [1],\n",
       " [156, 26, 156, 90, 340, 64, 26, 341, 1],\n",
       " [1],\n",
       " [1, 1, 19, 342, 157, 343, 91, 13, 149, 344, 1],\n",
       " [1],\n",
       " [1, 1, 345, 19, 158, 346, 1, 158, 347, 55, 87, 45, 1],\n",
       " [1],\n",
       " [1],\n",
       " [1],\n",
       " [1],\n",
       " [1],\n",
       " [29, 92, 18, 348, 349, 350, 351, 1],\n",
       " [1],\n",
       " [8, 10, 4, 147, 159, 2, 12, 157, 1],\n",
       " [1],\n",
       " [31, 45, 81, 352, 1, 71, 2, 81, 160, 1],\n",
       " [1],\n",
       " [13, 27, 71, 159, 26, 12, 11, 353, 1],\n",
       " [1],\n",
       " [7, 76, 32, 18, 354, 355, 1],\n",
       " [1],\n",
       " [23, 356, 63, 7, 357, 3, 358, 359, 1],\n",
       " [1],\n",
       " [360, 14, 4, 11, 6, 161, 50, 10, 1],\n",
       " [1],\n",
       " [38, 56, 65, 162, 12, 26, 56, 14, 42, 1],\n",
       " [1],\n",
       " [56, 65, 4, 11, 40, 162, 163, 2, 24, 1],\n",
       " [1],\n",
       " [22, 56, 9, 15, 56, 65, 361, 10, 1],\n",
       " [1],\n",
       " [29, 64, 362, 363, 33, 22, 2, 66, 364, 1],\n",
       " [1],\n",
       " [365, 10, 366, 8, 128, 1],\n",
       " [1],\n",
       " [1, 1, 12, 18, 11, 367, 14, 2, 24, 115, 107, 77, 1],\n",
       " [1],\n",
       " [1, 1, 6, 12, 368, 369, 5, 31, 370, 15, 104, 1],\n",
       " [1],\n",
       " [1],\n",
       " [1],\n",
       " [371, 8, 3, 372, 17, 3, 164, 373],\n",
       " [1],\n",
       " [374, 93, 16, 375, 376, 1, 94, 377, 89],\n",
       " [1],\n",
       " [54, 378, 6, 16, 120, 379, 380, 1],\n",
       " [1],\n",
       " [381, 13, 165, 16, 382, 383, 1],\n",
       " [1],\n",
       " [5, 140, 384, 3, 385, 93, 386, 387, 1],\n",
       " [1],\n",
       " [166, 388, 167, 8, 16, 389, 62, 1],\n",
       " [1],\n",
       " [138, 390, 165, 391, 16, 21, 55, 1],\n",
       " [1],\n",
       " [392, 39, 16, 132, 393, 1],\n",
       " [1],\n",
       " [19, 17, 43, 394, 395, 13, 396, 397, 1],\n",
       " [1],\n",
       " [168, 398, 62, 82, 399, 43, 3, 169, 1],\n",
       " [1],\n",
       " [3, 59, 1, 400, 401, 1, 46, 402, 135],\n",
       " [1],\n",
       " [43, 16, 403, 404, 5, 60, 50, 405, 1],\n",
       " [1],\n",
       " [1, 1, 20, 2, 1, 4, 11, 406, 407, 8, 4, 408, 1],\n",
       " [1],\n",
       " [1, 1, 409, 39, 410, 411, 2, 412, 28, 413, 1],\n",
       " [1],\n",
       " [1],\n",
       " [1],\n",
       " [170, 6, 414, 1, 53, 415, 2, 170, 416, 1],\n",
       " [1],\n",
       " [95, 13, 95, 417, 18, 1, 171, 418, 8, 171, 1],\n",
       " [1],\n",
       " [53, 172, 2, 7, 23, 2, 173, 18, 419, 1],\n",
       " [1],\n",
       " [38, 111, 173, 13, 420, 15, 421, 1],\n",
       " [1],\n",
       " [22, 3, 422, 423, 9, 174, 424, 425, 1],\n",
       " [1],\n",
       " [35, 426, 427, 33, 428, 15, 429, 1],\n",
       " [1],\n",
       " [91, 33, 19, 430, 431, 10, 1, 61, 150],\n",
       " [1],\n",
       " [8, 432, 3, 433, 7, 2, 66, 105, 1],\n",
       " [1],\n",
       " [434, 74, 42, 435, 45, 436, 6, 50, 1],\n",
       " [1],\n",
       " [437, 94, 8, 94, 35, 438, 439, 1],\n",
       " [1],\n",
       " [166, 440, 1, 5, 116, 1, 5, 441, 127, 1],\n",
       " [1],\n",
       " [61, 30, 8, 42, 1, 42, 442, 443, 33, 444, 1],\n",
       " [1],\n",
       " [1, 1, 80, 445, 446, 70, 175, 1, 447, 42, 1],\n",
       " [1],\n",
       " [1, 1, 448, 47, 6, 10, 1, 449, 86, 176, 177, 450, 1],\n",
       " [1],\n",
       " [1],\n",
       " [1],\n",
       " [32, 26, 14, 451, 6, 452, 28, 453, 89, 1],\n",
       " [1],\n",
       " [7, 2, 454, 4, 11, 8, 86, 455, 1],\n",
       " [1],\n",
       " [456, 1, 22, 2, 457, 84, 458, 6, 44, 1],\n",
       " [1],\n",
       " [3, 25, 48, 459, 10, 168, 28, 460, 461, 1],\n",
       " [1],\n",
       " [3, 25, 48, 12, 4, 178, 5, 55, 462, 1],\n",
       " [1],\n",
       " [7, 2, 90, 125, 9, 10, 463, 155, 464, 1],\n",
       " [1],\n",
       " [17, 88, 465, 178, 174, 96, 466, 1],\n",
       " [1],\n",
       " [35, 467, 59, 1, 83, 468, 469, 8, 179, 1],\n",
       " [1],\n",
       " [60, 64, 72, 470, 8, 3, 25, 54, 133],\n",
       " [1],\n",
       " [471, 19, 16, 160, 1, 14, 55, 3, 25, 472, 26, 1],\n",
       " [1],\n",
       " [19, 27, 110, 180, 8, 3, 25, 72, 473, 1],\n",
       " [1],\n",
       " [5, 474, 143, 3, 475, 20, 476, 26, 1],\n",
       " [1],\n",
       " [1, 1, 90, 52, 477, 181, 8, 7, 478, 479],\n",
       " [1],\n",
       " [1, 1, 7, 39, 480, 481, 182, 73, 482, 1],\n",
       " [1],\n",
       " [1],\n",
       " [1],\n",
       " [14, 73, 483, 7, 2, 484, 52, 6, 485],\n",
       " [1],\n",
       " [61, 14, 4, 11, 24, 20, 486, 1],\n",
       " [1],\n",
       " [487, 22, 2, 176, 1, 2, 24, 488, 9, 175, 1],\n",
       " [1],\n",
       " [19, 7, 2, 489, 172, 32, 490, 491, 1],\n",
       " [1],\n",
       " [14, 2, 24, 20, 492, 13, 182, 183, 1],\n",
       " [1],\n",
       " [7, 184, 4, 11, 2, 493, 18, 6, 494, 1],\n",
       " [1],\n",
       " [495, 7, 136, 496, 6, 497],\n",
       " [1],\n",
       " [23, 6, 126, 58, 12, 4, 498, 98, 1],\n",
       " [1],\n",
       " [499, 185, 4, 500, 1, 7, 57, 96, 185, 78, 179, 1],\n",
       " [1],\n",
       " [69, 183, 12, 501, 502, 163, 145, 52, 1],\n",
       " [1],\n",
       " [12, 34, 4, 503, 32, 164, 5, 186, 1],\n",
       " [1],\n",
       " [38, 6, 4, 11, 504, 505, 186, 506, 177, 1],\n",
       " [1],\n",
       " [1, 1, 31, 10, 50, 11, 14, 52, 9, 507, 1],\n",
       " [1],\n",
       " [1, 1, 7, 21, 55, 96, 85, 8, 15, 38, 10, 1],\n",
       " [1],\n",
       " [34, 97, 34, 2, 84, 508, 20, 97, 2, 509, 1],\n",
       " [1],\n",
       " [8, 42, 9, 15, 1, 43, 7, 23, 2, 510, 1],\n",
       " [1],\n",
       " [5, 7, 68, 122, 23, 511, 2, 512, 1],\n",
       " [1],\n",
       " [2, 513, 514, 15, 1, 17, 2, 43, 167, 515, 1],\n",
       " [1],\n",
       " [516, 87, 517, 1, 21, 1, 5, 99, 1],\n",
       " [1],\n",
       " [518, 47, 519, 1, 62, 1, 5, 123, 520, 1],\n",
       " [1],\n",
       " [22, 30, 40, 521, 20, 1, 3, 65, 58, 522, 1],\n",
       " [1],\n",
       " [5, 523, 524, 525, 31, 3, 25, 526, 1],\n",
       " [1],\n",
       " [92, 63, 187, 141, 180, 18, 121, 14, 527, 1],\n",
       " [1],\n",
       " [528, 1, 529, 1, 5, 530, 1, 531, 532, 1],\n",
       " [1],\n",
       " [60, 187, 41, 533, 534, 1, 41, 535, 10, 75, 1],\n",
       " [1],\n",
       " [23, 137, 536, 2, 66, 8, 537, 538, 1],\n",
       " [1],\n",
       " [1, 1, 41, 539, 10, 14, 83, 540, 1, 5, 541, 100, 1],\n",
       " [1],\n",
       " [1, 1, 2, 66, 542, 75, 1, 18, 92, 7, 543, 44, 1],\n",
       " [1],\n",
       " [1],\n",
       " [1],\n",
       " [1],\n",
       " [1],\n",
       " [17, 57, 33, 118, 3, 544, 7, 545, 3, 36, 1],\n",
       " [1],\n",
       " [5, 49, 3, 188, 169, 546, 8, 148, 547, 1],\n",
       " [1],\n",
       " [17, 57, 548, 3, 549, 550, 131, 1],\n",
       " [1],\n",
       " [5, 551, 552, 30, 553, 153, 13, 189, 1],\n",
       " [1],\n",
       " [17, 554, 555, 57, 49, 556, 9, 152, 1],\n",
       " [1],\n",
       " [23, 557, 43, 558, 146, 559, 3, 560],\n",
       " [1],\n",
       " [5, 154, 561, 30, 562, 93, 8, 563],\n",
       " [1],\n",
       " [564, 39, 3, 565, 13, 189, 5, 566, 567, 1],\n",
       " [1],\n",
       " [29, 9, 4, 21, 33, 57, 568, 31],\n",
       " [1],\n",
       " [7, 2, 569, 3, 570, 9, 36, 144, 571, 1],\n",
       " [1],\n",
       " [572, 95, 5, 573, 33, 574, 575, 1],\n",
       " [1],\n",
       " [5, 44, 34, 97, 34, 91, 49, 181, 576, 1],\n",
       " [1],\n",
       " [1, 1, 5, 134, 184, 577, 578, 579, 31, 580],\n",
       " [1],\n",
       " [1, 1, 581, 161, 6, 188, 151, 1, 17, 82, 582, 10, 583, 1]]"
      ]
     },
     "execution_count": 10,
     "metadata": {},
     "output_type": "execute_result"
    }
   ],
   "source": [
    "sequences = tokenizer.texts_to_sequences(lines)\n",
    "sequences"
   ]
  },
  {
   "cell_type": "markdown",
   "metadata": {},
   "source": [
    "Build Subsequences"
   ]
  },
  {
   "cell_type": "code",
   "execution_count": 11,
   "metadata": {},
   "outputs": [],
   "source": [
    "subsequences= []\n",
    "for sequence in sequences:\n",
    "    for i in range(1, len(sequence)):\n",
    "        subsequence = sequence[:i+1]\n",
    "        subsequences.append(subsequence)"
   ]
  },
  {
   "cell_type": "markdown",
   "metadata": {},
   "source": [
    "Pad the Subsequences"
   ]
  },
  {
   "cell_type": "code",
   "execution_count": 12,
   "metadata": {},
   "outputs": [],
   "source": [
    "from keras.preprocessing.sequence import pad_sequences\n",
    "sequence_length= max([len(sequence) for sequence in sequences] )\n",
    "sequences= pad_sequences(subsequences, maxlen= sequence_length, padding = 'pre')"
   ]
  },
  {
   "cell_type": "markdown",
   "metadata": {},
   "source": [
    "Build Input and Output"
   ]
  },
  {
   "cell_type": "code",
   "execution_count": 13,
   "metadata": {},
   "outputs": [],
   "source": [
    "from keras.utils import to_categorical"
   ]
  },
  {
   "cell_type": "code",
   "execution_count": 14,
   "metadata": {},
   "outputs": [],
   "source": [
    "x, y = sequences[:,:-1], sequences[:,-1]"
   ]
  },
  {
   "cell_type": "code",
   "execution_count": 15,
   "metadata": {},
   "outputs": [
    {
     "data": {
      "text/plain": [
       "array([[0., 0., 0., ..., 0., 0., 0.],\n",
       "       [0., 0., 0., ..., 0., 0., 0.],\n",
       "       [0., 0., 0., ..., 0., 0., 0.],\n",
       "       [0., 0., 0., ..., 0., 0., 0.],\n",
       "       [0., 0., 0., ..., 0., 0., 0.]], dtype=float32)"
      ]
     },
     "execution_count": 15,
     "metadata": {},
     "output_type": "execute_result"
    }
   ],
   "source": [
    "y = to_categorical(y, num_classes= vocabulary_size)\n",
    "y[0:5]"
   ]
  },
  {
   "cell_type": "markdown",
   "metadata": {},
   "source": [
    "Network Architecture"
   ]
  },
  {
   "cell_type": "code",
   "execution_count": 16,
   "metadata": {},
   "outputs": [
    {
     "name": "stderr",
     "output_type": "stream",
     "text": [
      "WARNING: Logging before flag parsing goes to stderr.\n",
      "W0620 09:33:51.293936 29364 deprecation_wrapper.py:119] From C:\\Users\\benne\\Anaconda3\\envs\\DSMLBC_Py36\\lib\\site-packages\\keras\\backend\\tensorflow_backend.py:74: The name tf.get_default_graph is deprecated. Please use tf.compat.v1.get_default_graph instead.\n",
      "\n"
     ]
    }
   ],
   "source": [
    "from keras.models import Sequential\n",
    "seq_model = Sequential()"
   ]
  },
  {
   "cell_type": "markdown",
   "metadata": {},
   "source": [
    "Add the Embedding Layer"
   ]
  },
  {
   "cell_type": "code",
   "execution_count": 17,
   "metadata": {},
   "outputs": [
    {
     "name": "stderr",
     "output_type": "stream",
     "text": [
      "W0620 09:33:56.036818 29364 deprecation_wrapper.py:119] From C:\\Users\\benne\\Anaconda3\\envs\\DSMLBC_Py36\\lib\\site-packages\\keras\\backend\\tensorflow_backend.py:517: The name tf.placeholder is deprecated. Please use tf.compat.v1.placeholder instead.\n",
      "\n",
      "W0620 09:33:56.088391 29364 deprecation_wrapper.py:119] From C:\\Users\\benne\\Anaconda3\\envs\\DSMLBC_Py36\\lib\\site-packages\\keras\\backend\\tensorflow_backend.py:4138: The name tf.random_uniform is deprecated. Please use tf.random.uniform instead.\n",
      "\n"
     ]
    }
   ],
   "source": [
    "from keras.layers import Embedding\n",
    "seq_model.add(Embedding(vocabulary_size, 100, input_length = sequence_length -1))"
   ]
  },
  {
   "cell_type": "markdown",
   "metadata": {},
   "source": [
    "Add LSTM Layer"
   ]
  },
  {
   "cell_type": "code",
   "execution_count": 18,
   "metadata": {},
   "outputs": [],
   "source": [
    "from keras.layers import LSTM\n",
    "seq_model.add(LSTM(100))"
   ]
  },
  {
   "cell_type": "markdown",
   "metadata": {},
   "source": [
    "Add Dropout Layer"
   ]
  },
  {
   "cell_type": "code",
   "execution_count": 19,
   "metadata": {},
   "outputs": [
    {
     "name": "stderr",
     "output_type": "stream",
     "text": [
      "W0620 09:34:00.768660 29364 deprecation_wrapper.py:119] From C:\\Users\\benne\\Anaconda3\\envs\\DSMLBC_Py36\\lib\\site-packages\\keras\\backend\\tensorflow_backend.py:133: The name tf.placeholder_with_default is deprecated. Please use tf.compat.v1.placeholder_with_default instead.\n",
      "\n",
      "W0620 09:34:00.783540 29364 deprecation.py:506] From C:\\Users\\benne\\Anaconda3\\envs\\DSMLBC_Py36\\lib\\site-packages\\keras\\backend\\tensorflow_backend.py:3445: calling dropout (from tensorflow.python.ops.nn_ops) with keep_prob is deprecated and will be removed in a future version.\n",
      "Instructions for updating:\n",
      "Please use `rate` instead of `keep_prob`. Rate should be set to `rate = 1 - keep_prob`.\n"
     ]
    }
   ],
   "source": [
    "from keras.layers import Dropout\n",
    "seq_model.add(Dropout(0.1))"
   ]
  },
  {
   "cell_type": "markdown",
   "metadata": {},
   "source": [
    "Add the Output Layer"
   ]
  },
  {
   "cell_type": "code",
   "execution_count": 20,
   "metadata": {},
   "outputs": [],
   "source": [
    "from keras.layers import Dense\n",
    "seq_model.add(Dense(units = vocabulary_size, activation = 'softmax'))"
   ]
  },
  {
   "cell_type": "markdown",
   "metadata": {},
   "source": [
    "Build the RNN"
   ]
  },
  {
   "cell_type": "code",
   "execution_count": 21,
   "metadata": {},
   "outputs": [
    {
     "name": "stderr",
     "output_type": "stream",
     "text": [
      "W0620 09:34:33.815283 29364 deprecation_wrapper.py:119] From C:\\Users\\benne\\Anaconda3\\envs\\DSMLBC_Py36\\lib\\site-packages\\keras\\optimizers.py:790: The name tf.train.Optimizer is deprecated. Please use tf.compat.v1.train.Optimizer instead.\n",
      "\n",
      "W0620 09:34:33.861382 29364 deprecation_wrapper.py:119] From C:\\Users\\benne\\Anaconda3\\envs\\DSMLBC_Py36\\lib\\site-packages\\keras\\backend\\tensorflow_backend.py:3295: The name tf.log is deprecated. Please use tf.math.log instead.\n",
      "\n"
     ]
    }
   ],
   "source": [
    "seq_model.compile(optimizer='adam', loss = 'categorical_crossentropy', metrics =['accuracy'])"
   ]
  },
  {
   "cell_type": "code",
   "execution_count": 28,
   "metadata": {},
   "outputs": [
    {
     "data": {
      "image/png": "[encoded data removed]",
      "text/plain": [
       "<matplotlib.figure.Figure at 0x227662cd2b0>"
      ]
     },
     "metadata": {
      "needs_background": "light"
     },
     "output_type": "display_data"
    },
    {
     "name": "stdout",
     "output_type": "stream",
     "text": [
      "Log-loss (cost function):\n",
      "training   (min:    0.148, max:    0.171, cur:    0.152)\n",
      "\n",
      "Accuracy:\n",
      "training   (min:    0.924, max:    0.941, cur:    0.932)\n"
     ]
    },
    {
     "data": {
      "text/plain": [
       "<keras.callbacks.History at 0x2275dfa19b0>"
      ]
     },
     "execution_count": 28,
     "metadata": {},
     "output_type": "execute_result"
    }
   ],
   "source": [
    "import livelossplot\n",
    "plot_loss = livelossplot.PlotLossesKeras()\n",
    "\n",
    "seq_model.fit(x, y, callbacks= [plot_loss], epochs = 500)"
   ]
  },
  {
   "cell_type": "code",
   "execution_count": 29,
   "metadata": {},
   "outputs": [
    {
     "name": "stdout",
     "output_type": "stream",
     "text": [
      "_________________________________________________________________\n",
      "Layer (type)                 Output Shape              Param #   \n",
      "=================================================================\n",
      "embedding_1 (Embedding)      (None, 18, 100)           58400     \n",
      "_________________________________________________________________\n",
      "lstm_1 (LSTM)                (None, 100)               80400     \n",
      "_________________________________________________________________\n",
      "dropout_1 (Dropout)          (None, 100)               0         \n",
      "_________________________________________________________________\n",
      "dense_1 (Dense)              (None, 584)               58984     \n",
      "=================================================================\n",
      "Total params: 197,784\n",
      "Trainable params: 197,784\n",
      "Non-trainable params: 0\n",
      "_________________________________________________________________\n"
     ]
    }
   ],
   "source": [
    "seq_model.summary()"
   ]
  },
  {
   "cell_type": "markdown",
   "metadata": {},
   "source": [
    "Evaluate the Model"
   ]
  },
  {
   "cell_type": "code",
   "execution_count": 31,
   "metadata": {},
   "outputs": [
    {
     "name": "stdout",
     "output_type": "stream",
     "text": [
      "acc: 93.77%\n"
     ]
    }
   ],
   "source": [
    "scores = seq_model.evaluate(x, y, verbose=0)\n",
    "print(\"%s: %.2f%%\" % (seq_model.metrics_names[1], scores[1]*100))"
   ]
  },
  {
   "cell_type": "code",
   "execution_count": null,
   "metadata": {},
   "outputs": [],
   "source": []
  },
  {
   "cell_type": "code",
   "execution_count": null,
   "metadata": {},
   "outputs": [],
   "source": []
  }
 ],
 "metadata": {
  "kernelspec": {
   "display_name": "Python 3",
   "language": "python",
   "name": "python3"
  },
  "language_info": {
   "codemirror_mode": {
    "name": "ipython",
    "version": 3
   },
   "file_extension": ".py",
   "mimetype": "text/x-python",
   "name": "python",
   "nbconvert_exporter": "python",
   "pygments_lexer": "ipython3",
   "version": "3.6.8"
  }
 },
 "nbformat": 4,
 "nbformat_minor": 2
}
